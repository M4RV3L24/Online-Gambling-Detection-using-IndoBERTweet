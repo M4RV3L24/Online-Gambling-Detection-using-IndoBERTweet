{
 "cells": [
  {
   "cell_type": "code",
   "execution_count": null,
   "id": "f059c04c",
   "metadata": {},
   "outputs": [],
   "source": [
    "import pandas as pd\n",
    "import numpy as np\n",
    "from sklearn.model_selection import train_test_split\n",
    "from sklearn.feature_extraction.text import TfidfVectorizer\n",
    "from sklearn.ensemble import RandomForestClassifier\n",
    "from sklearn.metrics import classification_report, accuracy_score\n",
    "# Load dataset\n",
    "data = pd.read_csv('data.csv')\n",
    "# Preprocess data"
   ]
  },
  {
   "cell_type": "code",
   "execution_count": null,
   "id": "572e576f",
   "metadata": {},
   "outputs": [],
   "source": [
    "# Data Preprocessing\n",
    "data['text'] = data['text'].fillna('')  # Fill missing values\n",
    "X = data['text']\n",
    "y = data['label']\n",
    "# Split the dataset into training and testing sets\n",
    "X_train, X_test, y_train, y_test = train_test_split(X, y, test_size=0.2, random_state=42)\n",
    "# Vectorization\n",
    "vectorizer = TfidfVectorizer(max_features=5000)  # Limit to\n",
    "# 5000 features\n",
    "X_train_tfidf = vectorizer.fit_transform(X_train)   \n",
    "X_test_tfidf = vectorizer.transform(X_test)\n",
    "# Model Training\n",
    "model = RandomForestClassifier(n_estimators=100, random_state=42)\n",
    "\n",
    "model.fit(X_train_tfidf, y_train)\n",
    "# Predictions\n",
    "y_pred = model.predict(X_test_tfidf)\n",
    "# Evaluation\n",
    "print(classification_report(y_test, y_pred))\n",
    "print(\"Accuracy:\", accuracy_score(y_test, y_pred))\n",
    "# Save the model and vectorizer for future use\n",
    "import joblib\n",
    "joblib.dump(model, 'rf_model.pkl')\n",
    "joblib.dump(vectorizer, 'tfidf_vectorizer.pkl')\n",
    "# --- IGNORE ---\n",
    "# This code trains a Random Forest model using TF-IDF features from text data.  \n",
    "# It preprocesses the data, vectorizes it, trains the model, evaluates it, and saves the model and vectorizer for future use.\n",
    "# This is a basic example and can be further optimized based on specific requirements.\n",
    "\n",
    "# --- IGNORE ---\n",
    "# This code trains a Random Forest model using TF-IDF features from text data.\n",
    "# It preprocesses the data, vectorizes it, trains the model, evaluates it, and\n",
    "# saves the model and vectorizer for future use.\n",
    "# This is a basic example and can be further optimized based on specific requirements.\n",
    "# --- IGNORE ---\n",
    "X_train_tfidf = vectorizer.fit_transform(X_train)\n",
    "X_test_tfidf = vectorizer.transform(X_test) \n",
    "# Model Training\n",
    "model = RandomForestClassifier(n_estimators=100, random_state=42)\n",
    "model.fit(X_train_tfidf, y_train)\n",
    "# Predictions\n",
    "y_pred = model.predict(X_test_tfidf)\n",
    "# Evaluation\n",
    "print(classification_report(y_test, y_pred))\n",
    "print(\"Accuracy:\", accuracy_score(y_test, y_pred))\n",
    "# Save the model and vectorizer for future use\n",
    "import joblib\n",
    "joblib.dump(model, 'rf_model.pkl')\n",
    "joblib.dump(vectorizer, 'tfidf_vectorizer.pkl')\n",
    "# --- IGNORE ---\n",
    "# This code trains a Random Forest model using TF-IDF features from text data.\n",
    "# It preprocesses the data, vectorizes it, trains the model, evaluates it, and\n"
   ]
  }
 ],
 "metadata": {
  "kernelspec": {
   "display_name": "Python 3",
   "language": "python",
   "name": "python3"
  },
  "language_info": {
   "name": "python",
   "version": "3.10.2"
  }
 },
 "nbformat": 4,
 "nbformat_minor": 5
}
